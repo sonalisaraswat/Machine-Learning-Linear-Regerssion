{
 "cells": [
  {
   "cell_type": "code",
   "execution_count": 1,
   "metadata": {},
   "outputs": [],
   "source": [
    "import pandas as pd\n",
    "import numpy as np"
   ]
  },
  {
   "cell_type": "code",
   "execution_count": 2,
   "metadata": {},
   "outputs": [],
   "source": [
    "def NormalEquation(X, y):\n",
    "    theta = ((np.linalg.inv(X.T.dot(X))).dot(X.T)).dot(y)\n",
    "    return theta"
   ]
  },
  {
   "cell_type": "code",
   "execution_count": 3,
   "metadata": {},
   "outputs": [
    {
     "name": "stdout",
     "output_type": "stream",
     "text": [
      "[89597.9095428    139.21067402 -8738.01911233]\n"
     ]
    }
   ],
   "source": [
    "df = pd.read_csv('ex1data2.txt')\n",
    "X = pd.DataFrame(df.iloc[:,0:2])\n",
    "y = df.iloc[:,2]\n",
    "m = len(y)\n",
    "Extra = np.ones([m,1], dtype = float)\n",
    "X = pd.concat([pd.DataFrame(Extra), X], axis = 1)\n",
    "theta = NormalEquation(X, y)\n",
    "print(theta)"
   ]
  }
 ],
 "metadata": {
  "kernelspec": {
   "display_name": "Python 3",
   "language": "python",
   "name": "python3"
  },
  "language_info": {
   "codemirror_mode": {
    "name": "ipython",
    "version": 3
   },
   "file_extension": ".py",
   "mimetype": "text/x-python",
   "name": "python",
   "nbconvert_exporter": "python",
   "pygments_lexer": "ipython3",
   "version": "3.8.2"
  }
 },
 "nbformat": 4,
 "nbformat_minor": 4
}
