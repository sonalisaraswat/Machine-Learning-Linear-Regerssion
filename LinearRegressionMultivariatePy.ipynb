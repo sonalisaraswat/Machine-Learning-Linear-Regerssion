{
 "cells": [
  {
   "cell_type": "code",
   "execution_count": 1,
   "metadata": {},
   "outputs": [],
   "source": [
    "import numpy as np\n",
    "import pandas as pd"
   ]
  },
  {
   "cell_type": "code",
   "execution_count": 2,
   "metadata": {},
   "outputs": [],
   "source": [
    "def ComputeCost(X, y, theta):\n",
    "    J = (1/(2*m))*sum((X.dot(theta)[0]-y)**2)\n",
    "    return J"
   ]
  },
  {
   "cell_type": "code",
   "execution_count": 3,
   "metadata": {},
   "outputs": [],
   "source": [
    "def GradientDecent(X, y, theta, alpha, ite):\n",
    "    n = len(X.columns)\n",
    "    temp = np.zeros([n, 1])\n",
    "    for i in range(ite):\n",
    "        temp[0] = theta[0,:] - (alpha/m)*sum(X.dot(theta)[0] - y)\n",
    "        for j in range(1,n):\n",
    "            temp[j] = theta[j,:] - (alpha/m)*((pd.DataFrame(X.iloc[:,j]).T).dot(X.dot(theta)[0] - y))\n",
    "        theta = np.copy(temp)\n",
    "    return theta "
   ]
  },
  {
   "cell_type": "code",
   "execution_count": 4,
   "metadata": {},
   "outputs": [],
   "source": [
    "df = pd.read_csv('ex1data2.txt')\n",
    "X = pd.DataFrame(df.iloc[:,0:2])\n",
    "y = df.iloc[:,2]\n",
    "m = len(y)\n",
    "\n",
    "Extra = np.ones([m,1], dtype = int)\n",
    "X = pd.concat([pd.DataFrame(Extra), X], axis = 1)"
   ]
  },
  {
   "cell_type": "code",
   "execution_count": 5,
   "metadata": {},
   "outputs": [],
   "source": [
    "alpha = 0.00000022\n",
    "ite = 600\n",
    "theta = np.zeros([3,1], dtype = float)"
   ]
  },
  {
   "cell_type": "code",
   "execution_count": 6,
   "metadata": {},
   "outputs": [
    {
     "name": "stdout",
     "output_type": "stream",
     "text": [
      "65591548106.45744\n",
      "\n",
      "[[  1.32998056]\n",
      " [165.37913926]\n",
      " [  2.42941398]]\n",
      "\n",
      "2397812727.9897017\n"
     ]
    }
   ],
   "source": [
    "print(ComputeCost(X, y, theta))\n",
    "print()\n",
    "theta = GradientDecent(X, y, theta, alpha, ite)\n",
    "print(theta)\n",
    "print()\n",
    "print(ComputeCost(X, y, theta))"
   ]
  }
 ],
 "metadata": {
  "kernelspec": {
   "display_name": "Python 3",
   "language": "python",
   "name": "python3"
  },
  "language_info": {
   "codemirror_mode": {
    "name": "ipython",
    "version": 3
   },
   "file_extension": ".py",
   "mimetype": "text/x-python",
   "name": "python",
   "nbconvert_exporter": "python",
   "pygments_lexer": "ipython3",
   "version": "3.8.2"
  }
 },
 "nbformat": 4,
 "nbformat_minor": 4
}
